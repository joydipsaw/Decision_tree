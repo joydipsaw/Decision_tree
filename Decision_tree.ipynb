{
 "cells": [
  {
   "cell_type": "code",
   "execution_count": null,
   "id": "c53f01d0-cf3e-4cc4-8567-87de949a5b90",
   "metadata": {},
   "outputs": [],
   "source": [
    "import pandas as pd\n",
    "df = pd.read_csv('titanic.csv')\n",
    "df.head()"
   ]
  },
  {
   "cell_type": "code",
   "execution_count": null,
   "id": "5f80c0a4-ca00-4f74-82c6-845feaf5cb72",
   "metadata": {},
   "outputs": [],
   "source": [
    "df.drop(['PassengerId','Name','SibSp','Parch','Ticket','Cabin','Embarked'],axis='columns',inplace=True)\n",
    "df.head()"
   ]
  },
  {
   "cell_type": "code",
   "execution_count": null,
   "id": "492ea335-6468-46e9-9315-3c28578f0e5d",
   "metadata": {},
   "outputs": [],
   "source": [
    "inputs = df.drop('Survived',axis='columns')\n",
    "target = df.Survived"
   ]
  },
  {
   "cell_type": "code",
   "execution_count": null,
   "id": "4fa00f00-2956-47a4-aa96-7c7da15ca945",
   "metadata": {},
   "outputs": [],
   "source": [
    "target"
   ]
  },
  {
   "cell_type": "code",
   "execution_count": null,
   "id": "93abdccc-da7c-4c16-bd6f-5cc232852a0e",
   "metadata": {},
   "outputs": [],
   "source": [
    "from sklearn.preprocessing import LabelEncoder"
   ]
  },
  {
   "cell_type": "code",
   "execution_count": null,
   "id": "2b8ed4b8-7b62-410b-a72c-d79c7c728418",
   "metadata": {},
   "outputs": [],
   "source": [
    "le_Pclass = LabelEncoder()\n",
    "le_Sex = LabelEncoder()\n",
    "le_Age = LabelEncoder()\n",
    "le_Fare = LabelEncoder()"
   ]
  },
  {
   "cell_type": "code",
   "execution_count": null,
   "id": "aa4e6631-03cd-473d-8a32-666017b6664c",
   "metadata": {},
   "outputs": [],
   "source": [
    "inputs['Pclass_n'] = le_Pclass.fit_transform(inputs['Pclass'])\n",
    "inputs['Sex_n'] = le_Sex.fit_transform(inputs['Sex'])\n",
    "inputs['Age_n'] = le_Age.fit_transform(inputs['Age'])\n",
    "inputs['Fare_n'] = le_Fare.fit_transform(inputs['Fare'])"
   ]
  },
  {
   "cell_type": "code",
   "execution_count": null,
   "id": "e6901e07-bed9-435c-9a69-7cfbd92f9675",
   "metadata": {},
   "outputs": [],
   "source": [
    "inputs.head()"
   ]
  },
  {
   "cell_type": "code",
   "execution_count": null,
   "id": "b179fbea-6657-4dd6-953e-6fcfa57f2708",
   "metadata": {},
   "outputs": [],
   "source": [
    "inputs_n = inputs.drop(['Pclass','Sex','Age','Fare'],axis='columns')\n",
    "inputs_n"
   ]
  },
  {
   "cell_type": "code",
   "execution_count": null,
   "id": "6164556d-7bc3-49f1-bfdd-cbd30967edbc",
   "metadata": {},
   "outputs": [],
   "source": [
    "from sklearn import tree"
   ]
  },
  {
   "cell_type": "code",
   "execution_count": null,
   "id": "3a952a7d-83f6-4d65-aa3a-542e35b97f69",
   "metadata": {},
   "outputs": [],
   "source": [
    "model = tree.DecisionTreeClassifier()"
   ]
  },
  {
   "cell_type": "code",
   "execution_count": null,
   "id": "d79c6fd5-8cd0-434a-b760-f472e2915b33",
   "metadata": {},
   "outputs": [],
   "source": [
    "from sklearn.model_selection import train_test_split"
   ]
  },
  {
   "cell_type": "code",
   "execution_count": null,
   "id": "a5269b62-909b-4886-a1e0-353a543d7605",
   "metadata": {},
   "outputs": [],
   "source": [
    "model.fit(inputs_n,target)"
   ]
  },
  {
   "cell_type": "code",
   "execution_count": null,
   "id": "fa951239-56d3-427e-b20c-403fcae21007",
   "metadata": {},
   "outputs": [],
   "source": [
    "model.score(inputs_n,target)"
   ]
  },
  {
   "cell_type": "code",
   "execution_count": null,
   "id": "bdd130bb-2796-44b1-867b-476d400b0d46",
   "metadata": {},
   "outputs": [],
   "source": [
    "model.predict([[0,0,51,207]])"
   ]
  },
  {
   "cell_type": "code",
   "execution_count": null,
   "id": "6cd1951d-abb6-4b43-a744-8abf3305017a",
   "metadata": {
    "tags": []
   },
   "outputs": [],
   "source": [
    "model.predict([[1,1,24,169]])"
   ]
  }
 ],
 "metadata": {
  "kernelspec": {
   "display_name": "Python 3 (ipykernel)",
   "language": "python",
   "name": "python3"
  },
  "language_info": {
   "codemirror_mode": {
    "name": "ipython",
    "version": 3
   },
   "file_extension": ".py",
   "mimetype": "text/x-python",
   "name": "python",
   "nbconvert_exporter": "python",
   "pygments_lexer": "ipython3",
   "version": "3.11.5"
  }
 },
 "nbformat": 4,
 "nbformat_minor": 5
}
